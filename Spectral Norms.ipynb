{
 "cells": [
  {
   "cell_type": "code",
   "execution_count": 80,
   "metadata": {},
   "outputs": [],
   "source": [
    "import torch.nn as nn\n",
    "import torch\n",
    "\n",
    "conv = nn.Conv2d(1, 1, 3)\n",
    "input_shape = (3, 3)\n",
    "padded_input_shape = (7, 7)\n",
    "conv.bias[:] = 0\n",
    "conv.weight.data = torch.randn(*conv.weight.data.shape)\n",
    "weight = conv.weight.data"
   ]
  },
  {
   "cell_type": "code",
   "execution_count": 87,
   "metadata": {},
   "outputs": [],
   "source": [
    "import numpy as np\n",
    "from transpose_convolutions import make_block_toep, test\n",
    "\n",
    "def SingularValues(kernel, input_shape):\n",
    "    transforms = np.fft.fft2(kernel, input_shape, axes=[0, 1])\n",
    "    print(transforms.shape)\n",
    "    return np.linalg.svd(transforms)"
   ]
  },
  {
   "cell_type": "code",
   "execution_count": 91,
   "metadata": {},
   "outputs": [
    {
     "name": "stdout",
     "output_type": "stream",
     "text": [
      "(7, 7, 3, 3)\n"
     ]
    }
   ],
   "source": [
    "v1 = SingularValues(weight.numpy(), padded_input_shape)[1].reshape(-1)"
   ]
  },
  {
   "cell_type": "code",
   "execution_count": 92,
   "metadata": {},
   "outputs": [
    {
     "name": "stdout",
     "output_type": "stream",
     "text": [
      "[3.718072]\n"
     ]
    }
   ],
   "source": [
    "toep = make_block_toep(*input_shape, weight)\n",
    "v2 = np.linalg.svd(toep, compute_uv=False)\n",
    "print(v2)"
   ]
  },
  {
   "cell_type": "code",
   "execution_count": 93,
   "metadata": {},
   "outputs": [
    {
     "data": {
      "text/plain": [
       "array([2.92858789, 1.90248692, 1.27592111, 2.92858789, 1.90248692,\n",
       "       1.27592111, 2.92858789, 1.90248692, 1.27592111, 2.92858789,\n",
       "       1.90248692, 1.27592111, 2.92858789, 1.90248692, 1.27592111,\n",
       "       2.92858789, 1.90248692, 1.27592111, 2.92858789, 1.90248692,\n",
       "       1.27592111, 2.92858789, 1.90248692, 1.27592111, 2.92858789,\n",
       "       1.90248692, 1.27592111, 2.92858789, 1.90248692, 1.27592111,\n",
       "       2.92858789, 1.90248692, 1.27592111, 2.92858789, 1.90248692,\n",
       "       1.27592111, 2.92858789, 1.90248692, 1.27592111, 2.92858789,\n",
       "       1.90248692, 1.27592111, 2.92858789, 1.90248692, 1.27592111,\n",
       "       2.92858789, 1.90248692, 1.27592111, 2.92858789, 1.90248692,\n",
       "       1.27592111, 2.92858789, 1.90248692, 1.27592111, 2.92858789,\n",
       "       1.90248692, 1.27592111, 2.92858789, 1.90248692, 1.27592111,\n",
       "       2.92858789, 1.90248692, 1.27592111, 2.92858789, 1.90248692,\n",
       "       1.27592111, 2.92858789, 1.90248692, 1.27592111, 2.92858789,\n",
       "       1.90248692, 1.27592111, 2.92858789, 1.90248692, 1.27592111,\n",
       "       2.92858789, 1.90248692, 1.27592111, 2.92858789, 1.90248692,\n",
       "       1.27592111, 2.92858789, 1.90248692, 1.27592111, 2.92858789,\n",
       "       1.90248692, 1.27592111, 2.92858789, 1.90248692, 1.27592111,\n",
       "       2.92858789, 1.90248692, 1.27592111, 2.92858789, 1.90248692,\n",
       "       1.27592111, 2.92858789, 1.90248692, 1.27592111, 2.92858789,\n",
       "       1.90248692, 1.27592111, 2.92858789, 1.90248692, 1.27592111,\n",
       "       2.92858789, 1.90248692, 1.27592111, 2.92858789, 1.90248692,\n",
       "       1.27592111, 2.92858789, 1.90248692, 1.27592111, 2.92858789,\n",
       "       1.90248692, 1.27592111, 2.92858789, 1.90248692, 1.27592111,\n",
       "       2.92858789, 1.90248692, 1.27592111, 2.92858789, 1.90248692,\n",
       "       1.27592111, 2.92858789, 1.90248692, 1.27592111, 2.92858789,\n",
       "       1.90248692, 1.27592111, 2.92858789, 1.90248692, 1.27592111,\n",
       "       2.92858789, 1.90248692, 1.27592111, 2.92858789, 1.90248692,\n",
       "       1.27592111, 2.92858789, 1.90248692, 1.27592111, 2.92858789,\n",
       "       1.90248692, 1.27592111])"
      ]
     },
     "execution_count": 93,
     "metadata": {},
     "output_type": "execute_result"
    }
   ],
   "source": [
    "v1"
   ]
  },
  {
   "cell_type": "code",
   "execution_count": 79,
   "metadata": {},
   "outputs": [
    {
     "data": {
      "text/plain": [
       "(25, 25)"
      ]
     },
     "execution_count": 79,
     "metadata": {},
     "output_type": "execute_result"
    }
   ],
   "source": [
    "a = np.zeros((5, 5))\n",
    "b = np.zeros((5, 5))\n",
    "\n",
    "np.outer(a, b).shape"
   ]
  },
  {
   "cell_type": "code",
   "execution_count": null,
   "metadata": {
    "collapsed": true
   },
   "outputs": [],
   "source": []
  }
 ],
 "metadata": {
  "kernelspec": {
   "display_name": "Python 3",
   "language": "python",
   "name": "python3"
  },
  "language_info": {
   "codemirror_mode": {
    "name": "ipython",
    "version": 3
   },
   "file_extension": ".py",
   "mimetype": "text/x-python",
   "name": "python",
   "nbconvert_exporter": "python",
   "pygments_lexer": "ipython3",
   "version": "3.6.1"
  }
 },
 "nbformat": 4,
 "nbformat_minor": 2
}
